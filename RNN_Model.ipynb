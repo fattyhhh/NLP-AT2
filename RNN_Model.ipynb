{
  "cells": [
    {
      "cell_type": "code",
      "execution_count": 4,
      "metadata": {
        "id": "L4_3rNh6S1hU"
      },
      "outputs": [],
      "source": [
        "# import libraries \n",
        "import tensorflow as tf\n",
        "import os\n",
        "import pandas as pd\n",
        "import numpy as np\n",
        "import matplotlib.pyplot as plt\n",
        "from skimage import feature\n",
        "from sklearn import metrics\n",
        "from sklearn.metrics import accuracy_score\n",
        "from sklearn.model_selection import train_test_split\n",
        "import seaborn as sns\n",
        "from wordcloud import WordCloud, STOPWORDS\n",
        "import nltk\n",
        "from nltk.corpus import stopwords\n"
      ]
    },
    {
      "cell_type": "markdown",
      "metadata": {
        "id": "L8Glb7PtS4Xs"
      },
      "source": []
    },
    {
      "cell_type": "code",
      "execution_count": 10,
      "metadata": {
        "id": "NbB70lflS1hb"
      },
      "outputs": [],
      "source": [
        "from tensorflow import keras\n",
        "from tensorflow.keras.preprocessing.text import Tokenizer\n",
        "from tensorflow.keras.preprocessing.sequence import pad_sequences\n",
        "from tensorflow.keras.models import Sequential\n",
        "from tensorflow.keras.layers import Input, Embedding, LSTM, Dense\n",
        "from tensorflow.keras.models import Model"
      ]
    },
    {
      "cell_type": "code",
      "execution_count": 1,
      "metadata": {
        "colab": {
          "base_uri": "https://localhost:8080/"
        },
        "id": "wDHTjHVIhbpO",
        "outputId": "8226ed5f-2870-4376-cca8-5baa901af506"
      },
      "outputs": [
        {
          "name": "stdout",
          "output_type": "stream",
          "text": [
            "Mounted at /content/gdrive\n"
          ]
        }
      ],
      "source": [
        "from google.colab import drive\n",
        "drive.mount('/content/gdrive')"
      ]
    },
    {
      "cell_type": "code",
      "execution_count": 11,
      "metadata": {
        "id": "JHUNTziahblg"
      },
      "outputs": [],
      "source": [
        "spotify_path = '/content/gdrive/MyDrive/ANLP/spotify_songs.csv'\n",
        "en_path = '/content/gdrive/MyDrive/ANLP/lyrics_in_en.csv'"
      ]
    },
    {
      "cell_type": "code",
      "execution_count": 12,
      "metadata": {
        "colab": {
          "base_uri": "https://localhost:8080/",
          "height": 681
        },
        "id": "e78eJks3S1hf",
        "outputId": "3c8f1bc9-b305-4328-c398-41ded323f40b"
      },
      "outputs": [
        {
          "data": {
            "text/html": [
              "<div>\n",
              "<style scoped>\n",
              "    .dataframe tbody tr th:only-of-type {\n",
              "        vertical-align: middle;\n",
              "    }\n",
              "\n",
              "    .dataframe tbody tr th {\n",
              "        vertical-align: top;\n",
              "    }\n",
              "\n",
              "    .dataframe thead th {\n",
              "        text-align: right;\n",
              "    }\n",
              "</style>\n",
              "<table border=\"1\" class=\"dataframe\">\n",
              "  <thead>\n",
              "    <tr style=\"text-align: right;\">\n",
              "      <th></th>\n",
              "      <th>track_id</th>\n",
              "      <th>track_name</th>\n",
              "      <th>track_artist</th>\n",
              "      <th>lyrics</th>\n",
              "      <th>track_popularity</th>\n",
              "      <th>track_album_id</th>\n",
              "      <th>track_album_name</th>\n",
              "      <th>track_album_release_date</th>\n",
              "      <th>playlist_name</th>\n",
              "      <th>playlist_id</th>\n",
              "      <th>...</th>\n",
              "      <th>loudness</th>\n",
              "      <th>mode</th>\n",
              "      <th>speechiness</th>\n",
              "      <th>acousticness</th>\n",
              "      <th>instrumentalness</th>\n",
              "      <th>liveness</th>\n",
              "      <th>valence</th>\n",
              "      <th>tempo</th>\n",
              "      <th>duration_ms</th>\n",
              "      <th>language</th>\n",
              "    </tr>\n",
              "  </thead>\n",
              "  <tbody>\n",
              "    <tr>\n",
              "      <th>0</th>\n",
              "      <td>0017A6SJgTbfQVU2EtsPNo</td>\n",
              "      <td>Pangarap</td>\n",
              "      <td>Barbie's Cradle</td>\n",
              "      <td>Minsan pa Nang ako'y napalingon Hindi ko alam ...</td>\n",
              "      <td>41</td>\n",
              "      <td>1srJQ0njEQgd8w4XSqI4JQ</td>\n",
              "      <td>Trip</td>\n",
              "      <td>2001-01-01</td>\n",
              "      <td>Pinoy Classic Rock</td>\n",
              "      <td>37i9dQZF1DWYDQ8wBxd7xt</td>\n",
              "      <td>...</td>\n",
              "      <td>-10.068</td>\n",
              "      <td>1</td>\n",
              "      <td>0.0236</td>\n",
              "      <td>0.27900</td>\n",
              "      <td>0.01170</td>\n",
              "      <td>0.0887</td>\n",
              "      <td>0.566</td>\n",
              "      <td>97.091</td>\n",
              "      <td>235440</td>\n",
              "      <td>tl</td>\n",
              "    </tr>\n",
              "    <tr>\n",
              "      <th>1</th>\n",
              "      <td>004s3t0ONYlzxII9PLgU6z</td>\n",
              "      <td>I Feel Alive</td>\n",
              "      <td>Steady Rollin</td>\n",
              "      <td>The trees, are singing in the wind The sky blu...</td>\n",
              "      <td>28</td>\n",
              "      <td>3z04Lb9Dsilqw68SHt6jLB</td>\n",
              "      <td>Love &amp; Loss</td>\n",
              "      <td>2017-11-21</td>\n",
              "      <td>Hard Rock Workout</td>\n",
              "      <td>3YouF0u7waJnolytf9JCXf</td>\n",
              "      <td>...</td>\n",
              "      <td>-4.739</td>\n",
              "      <td>1</td>\n",
              "      <td>0.0442</td>\n",
              "      <td>0.01170</td>\n",
              "      <td>0.00994</td>\n",
              "      <td>0.3470</td>\n",
              "      <td>0.404</td>\n",
              "      <td>135.225</td>\n",
              "      <td>373512</td>\n",
              "      <td>en</td>\n",
              "    </tr>\n",
              "    <tr>\n",
              "      <th>2</th>\n",
              "      <td>00chLpzhgVjxs1zKC9UScL</td>\n",
              "      <td>Poison</td>\n",
              "      <td>Bell Biv DeVoe</td>\n",
              "      <td>NA Yeah, Spyderman and Freeze in full effect U...</td>\n",
              "      <td>0</td>\n",
              "      <td>6oZ6brjB8x3GoeSYdwJdPc</td>\n",
              "      <td>Gold</td>\n",
              "      <td>2005-01-01</td>\n",
              "      <td>Back in the day - R&amp;B, New Jack Swing, Swingbe...</td>\n",
              "      <td>3a9y4eeCJRmG9p4YKfqYIx</td>\n",
              "      <td>...</td>\n",
              "      <td>-7.504</td>\n",
              "      <td>0</td>\n",
              "      <td>0.2160</td>\n",
              "      <td>0.00432</td>\n",
              "      <td>0.00723</td>\n",
              "      <td>0.4890</td>\n",
              "      <td>0.650</td>\n",
              "      <td>111.904</td>\n",
              "      <td>262467</td>\n",
              "      <td>en</td>\n",
              "    </tr>\n",
              "    <tr>\n",
              "      <th>3</th>\n",
              "      <td>00cqd6ZsSkLZqGMlQCR0Zo</td>\n",
              "      <td>Baby It's Cold Outside (feat. Christina Aguilera)</td>\n",
              "      <td>CeeLo Green</td>\n",
              "      <td>I really can't stay Baby it's cold outside I'v...</td>\n",
              "      <td>41</td>\n",
              "      <td>3ssspRe42CXkhPxdc12xcp</td>\n",
              "      <td>CeeLo's Magic Moment</td>\n",
              "      <td>2012-10-29</td>\n",
              "      <td>Christmas Soul</td>\n",
              "      <td>6FZYc2BvF7tColxO8PBShV</td>\n",
              "      <td>...</td>\n",
              "      <td>-5.819</td>\n",
              "      <td>0</td>\n",
              "      <td>0.0341</td>\n",
              "      <td>0.68900</td>\n",
              "      <td>0.00000</td>\n",
              "      <td>0.0664</td>\n",
              "      <td>0.405</td>\n",
              "      <td>118.593</td>\n",
              "      <td>243067</td>\n",
              "      <td>en</td>\n",
              "    </tr>\n",
              "    <tr>\n",
              "      <th>4</th>\n",
              "      <td>00emjlCv9azBN0fzuuyLqy</td>\n",
              "      <td>Dumb Litty</td>\n",
              "      <td>KARD</td>\n",
              "      <td>Get up out of my business You don't keep me fr...</td>\n",
              "      <td>65</td>\n",
              "      <td>7h5X3xhh3peIK9Y0qI5hbK</td>\n",
              "      <td>KARD 2nd Digital Single ‘Dumb Litty’</td>\n",
              "      <td>2019-09-22</td>\n",
              "      <td>K-Party Dance Mix</td>\n",
              "      <td>37i9dQZF1DX4RDXswvP6Mj</td>\n",
              "      <td>...</td>\n",
              "      <td>-1.993</td>\n",
              "      <td>1</td>\n",
              "      <td>0.0409</td>\n",
              "      <td>0.03700</td>\n",
              "      <td>0.00000</td>\n",
              "      <td>0.1380</td>\n",
              "      <td>0.240</td>\n",
              "      <td>130.018</td>\n",
              "      <td>193160</td>\n",
              "      <td>en</td>\n",
              "    </tr>\n",
              "  </tbody>\n",
              "</table>\n",
              "<p>5 rows × 25 columns</p>\n",
              "</div>"
            ],
            "text/plain": [
              "                 track_id                                         track_name  \\\n",
              "0  0017A6SJgTbfQVU2EtsPNo                                           Pangarap   \n",
              "1  004s3t0ONYlzxII9PLgU6z                                       I Feel Alive   \n",
              "2  00chLpzhgVjxs1zKC9UScL                                             Poison   \n",
              "3  00cqd6ZsSkLZqGMlQCR0Zo  Baby It's Cold Outside (feat. Christina Aguilera)   \n",
              "4  00emjlCv9azBN0fzuuyLqy                                         Dumb Litty   \n",
              "\n",
              "      track_artist                                             lyrics  \\\n",
              "0  Barbie's Cradle  Minsan pa Nang ako'y napalingon Hindi ko alam ...   \n",
              "1    Steady Rollin  The trees, are singing in the wind The sky blu...   \n",
              "2   Bell Biv DeVoe  NA Yeah, Spyderman and Freeze in full effect U...   \n",
              "3      CeeLo Green  I really can't stay Baby it's cold outside I'v...   \n",
              "4             KARD  Get up out of my business You don't keep me fr...   \n",
              "\n",
              "   track_popularity          track_album_id  \\\n",
              "0                41  1srJQ0njEQgd8w4XSqI4JQ   \n",
              "1                28  3z04Lb9Dsilqw68SHt6jLB   \n",
              "2                 0  6oZ6brjB8x3GoeSYdwJdPc   \n",
              "3                41  3ssspRe42CXkhPxdc12xcp   \n",
              "4                65  7h5X3xhh3peIK9Y0qI5hbK   \n",
              "\n",
              "                       track_album_name track_album_release_date  \\\n",
              "0                                  Trip               2001-01-01   \n",
              "1                           Love & Loss               2017-11-21   \n",
              "2                                  Gold               2005-01-01   \n",
              "3                  CeeLo's Magic Moment               2012-10-29   \n",
              "4  KARD 2nd Digital Single ‘Dumb Litty’               2019-09-22   \n",
              "\n",
              "                                       playlist_name             playlist_id  \\\n",
              "0                                 Pinoy Classic Rock  37i9dQZF1DWYDQ8wBxd7xt   \n",
              "1                                  Hard Rock Workout  3YouF0u7waJnolytf9JCXf   \n",
              "2  Back in the day - R&B, New Jack Swing, Swingbe...  3a9y4eeCJRmG9p4YKfqYIx   \n",
              "3                                     Christmas Soul  6FZYc2BvF7tColxO8PBShV   \n",
              "4                                  K-Party Dance Mix  37i9dQZF1DX4RDXswvP6Mj   \n",
              "\n",
              "   ... loudness mode  speechiness  acousticness  instrumentalness  liveness  \\\n",
              "0  ...  -10.068    1       0.0236       0.27900           0.01170    0.0887   \n",
              "1  ...   -4.739    1       0.0442       0.01170           0.00994    0.3470   \n",
              "2  ...   -7.504    0       0.2160       0.00432           0.00723    0.4890   \n",
              "3  ...   -5.819    0       0.0341       0.68900           0.00000    0.0664   \n",
              "4  ...   -1.993    1       0.0409       0.03700           0.00000    0.1380   \n",
              "\n",
              "   valence    tempo  duration_ms  language  \n",
              "0    0.566   97.091       235440        tl  \n",
              "1    0.404  135.225       373512        en  \n",
              "2    0.650  111.904       262467        en  \n",
              "3    0.405  118.593       243067        en  \n",
              "4    0.240  130.018       193160        en  \n",
              "\n",
              "[5 rows x 25 columns]"
            ]
          },
          "execution_count": 12,
          "metadata": {},
          "output_type": "execute_result"
        }
      ],
      "source": [
        "# import data \n",
        "df = pd.read_csv('spotify_songs.csv')\n",
        "\n",
        "# check data\n",
        "df.head()"
      ]
    },
    {
      "cell_type": "code",
      "execution_count": 13,
      "metadata": {
        "colab": {
          "base_uri": "https://localhost:8080/",
          "height": 344
        },
        "id": "upR9nW07S1hg",
        "outputId": "1aed6024-509e-4b9d-ad6d-8399894289ef"
      },
      "outputs": [
        {
          "data": {
            "text/html": [
              "<div>\n",
              "<style scoped>\n",
              "    .dataframe tbody tr th:only-of-type {\n",
              "        vertical-align: middle;\n",
              "    }\n",
              "\n",
              "    .dataframe tbody tr th {\n",
              "        vertical-align: top;\n",
              "    }\n",
              "\n",
              "    .dataframe thead th {\n",
              "        text-align: right;\n",
              "    }\n",
              "</style>\n",
              "<table border=\"1\" class=\"dataframe\">\n",
              "  <thead>\n",
              "    <tr style=\"text-align: right;\">\n",
              "      <th></th>\n",
              "      <th>track_popularity</th>\n",
              "      <th>danceability</th>\n",
              "      <th>energy</th>\n",
              "      <th>key</th>\n",
              "      <th>loudness</th>\n",
              "      <th>mode</th>\n",
              "      <th>speechiness</th>\n",
              "      <th>acousticness</th>\n",
              "      <th>instrumentalness</th>\n",
              "      <th>liveness</th>\n",
              "      <th>valence</th>\n",
              "      <th>tempo</th>\n",
              "      <th>duration_ms</th>\n",
              "    </tr>\n",
              "  </thead>\n",
              "  <tbody>\n",
              "    <tr>\n",
              "      <th>count</th>\n",
              "      <td>18454.000000</td>\n",
              "      <td>18454.000000</td>\n",
              "      <td>18454.000000</td>\n",
              "      <td>18454.000000</td>\n",
              "      <td>18454.000000</td>\n",
              "      <td>18454.000000</td>\n",
              "      <td>18454.000000</td>\n",
              "      <td>18454.000000</td>\n",
              "      <td>18454.000000</td>\n",
              "      <td>18454.000000</td>\n",
              "      <td>18454.000000</td>\n",
              "      <td>18454.000000</td>\n",
              "      <td>18454.000000</td>\n",
              "    </tr>\n",
              "    <tr>\n",
              "      <th>mean</th>\n",
              "      <td>42.438821</td>\n",
              "      <td>0.644066</td>\n",
              "      <td>0.692289</td>\n",
              "      <td>5.342094</td>\n",
              "      <td>-6.769159</td>\n",
              "      <td>0.580525</td>\n",
              "      <td>0.106192</td>\n",
              "      <td>0.175348</td>\n",
              "      <td>0.051216</td>\n",
              "      <td>0.189593</td>\n",
              "      <td>0.520598</td>\n",
              "      <td>120.812167</td>\n",
              "      <td>230319.306763</td>\n",
              "    </tr>\n",
              "    <tr>\n",
              "      <th>std</th>\n",
              "      <td>24.616740</td>\n",
              "      <td>0.150071</td>\n",
              "      <td>0.180635</td>\n",
              "      <td>3.613121</td>\n",
              "      <td>2.920757</td>\n",
              "      <td>0.493487</td>\n",
              "      <td>0.102291</td>\n",
              "      <td>0.217795</td>\n",
              "      <td>0.168263</td>\n",
              "      <td>0.153751</td>\n",
              "      <td>0.228716</td>\n",
              "      <td>27.586424</td>\n",
              "      <td>57255.086685</td>\n",
              "    </tr>\n",
              "    <tr>\n",
              "      <th>min</th>\n",
              "      <td>0.000000</td>\n",
              "      <td>0.098500</td>\n",
              "      <td>0.016700</td>\n",
              "      <td>0.000000</td>\n",
              "      <td>-34.283000</td>\n",
              "      <td>0.000000</td>\n",
              "      <td>0.022400</td>\n",
              "      <td>0.000001</td>\n",
              "      <td>0.000000</td>\n",
              "      <td>0.009360</td>\n",
              "      <td>0.000010</td>\n",
              "      <td>37.114000</td>\n",
              "      <td>31893.000000</td>\n",
              "    </tr>\n",
              "    <tr>\n",
              "      <th>25%</th>\n",
              "      <td>24.000000</td>\n",
              "      <td>0.546000</td>\n",
              "      <td>0.573000</td>\n",
              "      <td>2.000000</td>\n",
              "      <td>-8.249000</td>\n",
              "      <td>0.000000</td>\n",
              "      <td>0.039700</td>\n",
              "      <td>0.016100</td>\n",
              "      <td>0.000000</td>\n",
              "      <td>0.092700</td>\n",
              "      <td>0.345000</td>\n",
              "      <td>98.856000</td>\n",
              "      <td>193230.250000</td>\n",
              "    </tr>\n",
              "    <tr>\n",
              "      <th>50%</th>\n",
              "      <td>48.000000</td>\n",
              "      <td>0.660000</td>\n",
              "      <td>0.715000</td>\n",
              "      <td>6.000000</td>\n",
              "      <td>-6.227000</td>\n",
              "      <td>1.000000</td>\n",
              "      <td>0.060300</td>\n",
              "      <td>0.081900</td>\n",
              "      <td>0.000009</td>\n",
              "      <td>0.128000</td>\n",
              "      <td>0.522000</td>\n",
              "      <td>120.045000</td>\n",
              "      <td>221340.000000</td>\n",
              "    </tr>\n",
              "    <tr>\n",
              "      <th>75%</th>\n",
              "      <td>62.000000</td>\n",
              "      <td>0.755000</td>\n",
              "      <td>0.835000</td>\n",
              "      <td>9.000000</td>\n",
              "      <td>-4.719000</td>\n",
              "      <td>1.000000</td>\n",
              "      <td>0.130000</td>\n",
              "      <td>0.254000</td>\n",
              "      <td>0.001720</td>\n",
              "      <td>0.246000</td>\n",
              "      <td>0.700000</td>\n",
              "      <td>135.984000</td>\n",
              "      <td>258078.250000</td>\n",
              "    </tr>\n",
              "    <tr>\n",
              "      <th>max</th>\n",
              "      <td>100.000000</td>\n",
              "      <td>0.979000</td>\n",
              "      <td>1.000000</td>\n",
              "      <td>11.000000</td>\n",
              "      <td>1.275000</td>\n",
              "      <td>1.000000</td>\n",
              "      <td>0.918000</td>\n",
              "      <td>0.992000</td>\n",
              "      <td>0.987000</td>\n",
              "      <td>0.996000</td>\n",
              "      <td>0.991000</td>\n",
              "      <td>214.047000</td>\n",
              "      <td>517810.000000</td>\n",
              "    </tr>\n",
              "  </tbody>\n",
              "</table>\n",
              "</div>"
            ],
            "text/plain": [
              "       track_popularity  danceability        energy           key  \\\n",
              "count      18454.000000  18454.000000  18454.000000  18454.000000   \n",
              "mean          42.438821      0.644066      0.692289      5.342094   \n",
              "std           24.616740      0.150071      0.180635      3.613121   \n",
              "min            0.000000      0.098500      0.016700      0.000000   \n",
              "25%           24.000000      0.546000      0.573000      2.000000   \n",
              "50%           48.000000      0.660000      0.715000      6.000000   \n",
              "75%           62.000000      0.755000      0.835000      9.000000   \n",
              "max          100.000000      0.979000      1.000000     11.000000   \n",
              "\n",
              "           loudness          mode   speechiness  acousticness  \\\n",
              "count  18454.000000  18454.000000  18454.000000  18454.000000   \n",
              "mean      -6.769159      0.580525      0.106192      0.175348   \n",
              "std        2.920757      0.493487      0.102291      0.217795   \n",
              "min      -34.283000      0.000000      0.022400      0.000001   \n",
              "25%       -8.249000      0.000000      0.039700      0.016100   \n",
              "50%       -6.227000      1.000000      0.060300      0.081900   \n",
              "75%       -4.719000      1.000000      0.130000      0.254000   \n",
              "max        1.275000      1.000000      0.918000      0.992000   \n",
              "\n",
              "       instrumentalness      liveness       valence         tempo  \\\n",
              "count      18454.000000  18454.000000  18454.000000  18454.000000   \n",
              "mean           0.051216      0.189593      0.520598    120.812167   \n",
              "std            0.168263      0.153751      0.228716     27.586424   \n",
              "min            0.000000      0.009360      0.000010     37.114000   \n",
              "25%            0.000000      0.092700      0.345000     98.856000   \n",
              "50%            0.000009      0.128000      0.522000    120.045000   \n",
              "75%            0.001720      0.246000      0.700000    135.984000   \n",
              "max            0.987000      0.996000      0.991000    214.047000   \n",
              "\n",
              "         duration_ms  \n",
              "count   18454.000000  \n",
              "mean   230319.306763  \n",
              "std     57255.086685  \n",
              "min     31893.000000  \n",
              "25%    193230.250000  \n",
              "50%    221340.000000  \n",
              "75%    258078.250000  \n",
              "max    517810.000000  "
            ]
          },
          "execution_count": 13,
          "metadata": {},
          "output_type": "execute_result"
        }
      ],
      "source": [
        "df.describe()"
      ]
    },
    {
      "cell_type": "code",
      "execution_count": 14,
      "metadata": {
        "colab": {
          "base_uri": "https://localhost:8080/"
        },
        "id": "BSxiU0ExS1hi",
        "outputId": "19ac7f5b-65d2-4947-a8dc-88e20d23576d"
      },
      "outputs": [
        {
          "name": "stdout",
          "output_type": "stream",
          "text": [
            "<class 'pandas.core.frame.DataFrame'>\n",
            "RangeIndex: 18454 entries, 0 to 18453\n",
            "Data columns (total 25 columns):\n",
            " #   Column                    Non-Null Count  Dtype  \n",
            "---  ------                    --------------  -----  \n",
            " 0   track_id                  18454 non-null  object \n",
            " 1   track_name                18454 non-null  object \n",
            " 2   track_artist              18454 non-null  object \n",
            " 3   lyrics                    18194 non-null  object \n",
            " 4   track_popularity          18454 non-null  int64  \n",
            " 5   track_album_id            18454 non-null  object \n",
            " 6   track_album_name          18454 non-null  object \n",
            " 7   track_album_release_date  18454 non-null  object \n",
            " 8   playlist_name             18454 non-null  object \n",
            " 9   playlist_id               18454 non-null  object \n",
            " 10  playlist_genre            18454 non-null  object \n",
            " 11  playlist_subgenre         18454 non-null  object \n",
            " 12  danceability              18454 non-null  float64\n",
            " 13  energy                    18454 non-null  float64\n",
            " 14  key                       18454 non-null  int64  \n",
            " 15  loudness                  18454 non-null  float64\n",
            " 16  mode                      18454 non-null  int64  \n",
            " 17  speechiness               18454 non-null  float64\n",
            " 18  acousticness              18454 non-null  float64\n",
            " 19  instrumentalness          18454 non-null  float64\n",
            " 20  liveness                  18454 non-null  float64\n",
            " 21  valence                   18454 non-null  float64\n",
            " 22  tempo                     18454 non-null  float64\n",
            " 23  duration_ms               18454 non-null  int64  \n",
            " 24  language                  18194 non-null  object \n",
            "dtypes: float64(9), int64(4), object(12)\n",
            "memory usage: 3.5+ MB\n"
          ]
        },
        {
          "data": {
            "text/plain": [
              "((18454, 25),\n",
              " Index(['track_id', 'track_name', 'track_artist', 'lyrics', 'track_popularity',\n",
              "        'track_album_id', 'track_album_name', 'track_album_release_date',\n",
              "        'playlist_name', 'playlist_id', 'playlist_genre', 'playlist_subgenre',\n",
              "        'danceability', 'energy', 'key', 'loudness', 'mode', 'speechiness',\n",
              "        'acousticness', 'instrumentalness', 'liveness', 'valence', 'tempo',\n",
              "        'duration_ms', 'language'],\n",
              "       dtype='object'),\n",
              " None)"
            ]
          },
          "execution_count": 14,
          "metadata": {},
          "output_type": "execute_result"
        }
      ],
      "source": [
        "df.shape, df.columns, df.info()"
      ]
    },
    {
      "cell_type": "code",
      "execution_count": 15,
      "metadata": {
        "id": "a9ltyHCTS1hj"
      },
      "outputs": [],
      "source": [
        "# subset data for english lyrics only \n",
        "df = df[df['language'] == 'en']"
      ]
    },
    {
      "cell_type": "code",
      "execution_count": 16,
      "metadata": {
        "id": "2nxSKeUOq27V"
      },
      "outputs": [],
      "source": [
        "df = df.dropna(subset=['lyrics'])"
      ]
    },
    {
      "cell_type": "code",
      "execution_count": 17,
      "metadata": {
        "id": "thg2gyqOrrsv"
      },
      "outputs": [],
      "source": [
        "# Sort DataFrame by track_popularity in descending order\n",
        "df_sorted = df.sort_values(by='track_popularity', ascending=False)\n",
        "\n",
        "# Take the top 100 rows\n",
        "df_top100 = df_sorted.head(100)"
      ]
    },
    {
      "cell_type": "code",
      "execution_count": 18,
      "metadata": {
        "colab": {
          "base_uri": "https://localhost:8080/"
        },
        "id": "Sx3_LnNrq5Ae",
        "outputId": "cafb5142-5124-414d-d0db-819ca3564944"
      },
      "outputs": [
        {
          "name": "stderr",
          "output_type": "stream",
          "text": [
            "[nltk_data] Downloading package stopwords to\n",
            "[nltk_data]     C:\\Users\\htw10\\AppData\\Roaming\\nltk_data...\n",
            "[nltk_data]   Package stopwords is already up-to-date!\n",
            "C:\\Users\\htw10\\AppData\\Local\\Temp\\ipykernel_3904\\2320322713.py:15: SettingWithCopyWarning: \n",
            "A value is trying to be set on a copy of a slice from a DataFrame.\n",
            "Try using .loc[row_indexer,col_indexer] = value instead\n",
            "\n",
            "See the caveats in the documentation: https://pandas.pydata.org/pandas-docs/stable/user_guide/indexing.html#returning-a-view-versus-a-copy\n",
            "  df_top100['lyrics'] = df_top100['lyrics'].apply(lambda x: clean_text(x))\n"
          ]
        }
      ],
      "source": [
        "import nltk\n",
        "import string\n",
        "from nltk.corpus import stopwords\n",
        "\n",
        "# Download stopwords\n",
        "nltk.download('stopwords')\n",
        "\n",
        "def clean_text(text):\n",
        "    text = text.lower()\n",
        "    text = ''.join([word for word in text if word not in string.punctuation])\n",
        "    text = text.split()\n",
        "    text = [word for word in text if word not in stopwords.words('english')]\n",
        "    return text\n",
        "\n",
        "df_top100['lyrics'] = df_top100['lyrics'].apply(lambda x: clean_text(x))\n"
      ]
    },
    {
      "cell_type": "code",
      "execution_count": 19,
      "metadata": {
        "id": "bk38m6Amr7kf"
      },
      "outputs": [],
      "source": [
        "from tensorflow.keras.preprocessing.text import Tokenizer\n",
        "\n",
        "tokenizer = Tokenizer()\n",
        "tokenizer.fit_on_texts(df_top100['lyrics'])\n",
        "total_words = len(tokenizer.word_index) + 1\n"
      ]
    },
    {
      "cell_type": "code",
      "execution_count": 20,
      "metadata": {
        "id": "ffh3EZ7Qr7hZ"
      },
      "outputs": [],
      "source": [
        "input_sequences = []\n",
        "for line in df_top100['lyrics']:\n",
        "    token_list = tokenizer.texts_to_sequences([line])[0]\n",
        "    for i in range(1, len(token_list)):\n",
        "        n_gram_sequence = token_list[:i+1]\n",
        "        input_sequences.append(n_gram_sequence)\n"
      ]
    },
    {
      "cell_type": "code",
      "execution_count": 21,
      "metadata": {
        "id": "raA6H8RRr7eh"
      },
      "outputs": [],
      "source": [
        "from tensorflow.keras.preprocessing.sequence import pad_sequences\n",
        "\n",
        "max_sequence_len = max([len(x) for x in input_sequences])\n",
        "input_sequences = np.array(pad_sequences(input_sequences, maxlen=max_sequence_len, padding='pre'))\n"
      ]
    },
    {
      "cell_type": "code",
      "execution_count": 22,
      "metadata": {
        "id": "U-3BYFEUr7bo"
      },
      "outputs": [],
      "source": [
        "predictors, label = input_sequences[:,:-1],input_sequences[:,-1]\n"
      ]
    },
    {
      "cell_type": "code",
      "execution_count": 23,
      "metadata": {
        "id": "lZE-2a9Zr7Y4"
      },
      "outputs": [],
      "source": [
        "from tensorflow.keras.utils import to_categorical\n",
        "\n",
        "label = to_categorical(label, num_classes=total_words)\n"
      ]
    },
    {
      "cell_type": "code",
      "execution_count": 24,
      "metadata": {
        "id": "oS7sDPGXr7V4"
      },
      "outputs": [],
      "source": [
        "from tensorflow.keras.models import Sequential\n",
        "from tensorflow.keras.layers import Embedding, LSTM, Dense, Dropout, Bidirectional\n",
        "from tensorflow.keras.optimizers import Adam\n",
        "from tensorflow.keras.callbacks import EarlyStopping\n"
      ]
    },
    {
      "cell_type": "code",
      "execution_count": 25,
      "metadata": {
        "colab": {
          "base_uri": "https://localhost:8080/"
        },
        "id": "qdfwsUn4r7TE",
        "outputId": "cc176f59-fe05-47a8-c389-f7067c77945e"
      },
      "outputs": [
        {
          "name": "stdout",
          "output_type": "stream",
          "text": [
            "Model: \"sequential\"\n",
            "_________________________________________________________________\n",
            " Layer (type)                Output Shape              Param #   \n",
            "=================================================================\n",
            " embedding (Embedding)       (None, 3163, 100)         324400    \n",
            "                                                                 \n",
            " bidirectional (Bidirectiona  (None, 3163, 300)        301200    \n",
            " l)                                                              \n",
            "                                                                 \n",
            " dropout (Dropout)           (None, 3163, 300)         0         \n",
            "                                                                 \n",
            " bidirectional_1 (Bidirectio  (None, 200)              320800    \n",
            " nal)                                                            \n",
            "                                                                 \n",
            " dense (Dense)               (None, 3244)              652044    \n",
            "                                                                 \n",
            "=================================================================\n",
            "Total params: 1,598,444\n",
            "Trainable params: 1,598,444\n",
            "Non-trainable params: 0\n",
            "_________________________________________________________________\n"
          ]
        },
        {
          "name": "stderr",
          "output_type": "stream",
          "text": [
            "c:\\Users\\htw10\\anaconda3\\lib\\site-packages\\keras\\optimizers\\optimizer_v2\\adam.py:114: UserWarning: The `lr` argument is deprecated, use `learning_rate` instead.\n",
            "  super().__init__(name, **kwargs)\n"
          ]
        }
      ],
      "source": [
        "model = Sequential()\n",
        "\n",
        "# Add an Embedding layer\n",
        "model.add(Embedding(total_words, 100, input_length=max_sequence_len - 1))\n",
        "\n",
        "# Add LSTM layers\n",
        "model.add(Bidirectional(LSTM(150, return_sequences=True)))\n",
        "model.add(Dropout(0.2))\n",
        "model.add(Bidirectional(LSTM(100)))\n",
        "\n",
        "# Add a Dense output layer\n",
        "model.add(Dense(total_words, activation='softmax'))\n",
        "\n",
        "# Compile the model\n",
        "model.compile(loss='categorical_crossentropy', \n",
        "              optimizer=Adam(lr=0.01), \n",
        "              metrics=['accuracy'])\n",
        "\n",
        "# Print the model summary\n",
        "model.summary()\n"
      ]
    },
    {
      "cell_type": "code",
      "execution_count": 6,
      "metadata": {},
      "outputs": [
        {
          "name": "stdout",
          "output_type": "stream",
          "text": [
            "[]\n"
          ]
        }
      ],
      "source": [
        "print(tf.config.list_physical_devices('GPU'))"
      ]
    },
    {
      "cell_type": "code",
      "execution_count": 28,
      "metadata": {
        "colab": {
          "base_uri": "https://localhost:8080/"
        },
        "id": "RQ2hdK-rsuk7",
        "outputId": "cf40b3c2-f307-4b49-cfea-0802e2f4a6f7"
      },
      "outputs": [
        {
          "name": "stdout",
          "output_type": "stream",
          "text": [
            "Epoch 1/5\n",
            "  11/2525 [..............................] - ETA: 3:24:57 - loss: 7.6446 - accuracy: 0.0227"
          ]
        },
        {
          "ename": "KeyboardInterrupt",
          "evalue": "",
          "output_type": "error",
          "traceback": [
            "\u001b[1;31m---------------------------------------------------------------------------\u001b[0m",
            "\u001b[1;31mKeyboardInterrupt\u001b[0m                         Traceback (most recent call last)",
            "Cell \u001b[1;32mIn[28], line 5\u001b[0m\n\u001b[0;32m      2\u001b[0m es \u001b[39m=\u001b[39m EarlyStopping(monitor\u001b[39m=\u001b[39m\u001b[39m'\u001b[39m\u001b[39mval_loss\u001b[39m\u001b[39m'\u001b[39m, mode\u001b[39m=\u001b[39m\u001b[39m'\u001b[39m\u001b[39mmin\u001b[39m\u001b[39m'\u001b[39m, verbose\u001b[39m=\u001b[39m\u001b[39m1\u001b[39m, patience\u001b[39m=\u001b[39m\u001b[39m5\u001b[39m)\n\u001b[0;32m      4\u001b[0m \u001b[39m# Fit the model\u001b[39;00m\n\u001b[1;32m----> 5\u001b[0m history \u001b[39m=\u001b[39m model\u001b[39m.\u001b[39;49mfit(predictors, label, \n\u001b[0;32m      6\u001b[0m                     epochs\u001b[39m=\u001b[39;49m\u001b[39m5\u001b[39;49m, \n\u001b[0;32m      7\u001b[0m                     verbose\u001b[39m=\u001b[39;49m\u001b[39m1\u001b[39;49m, \n\u001b[0;32m      8\u001b[0m                     callbacks\u001b[39m=\u001b[39;49m[es], \n\u001b[0;32m      9\u001b[0m                     validation_split\u001b[39m=\u001b[39;49m\u001b[39m0.2\u001b[39;49m)\n",
            "File \u001b[1;32mc:\\Users\\htw10\\anaconda3\\lib\\site-packages\\keras\\utils\\traceback_utils.py:65\u001b[0m, in \u001b[0;36mfilter_traceback.<locals>.error_handler\u001b[1;34m(*args, **kwargs)\u001b[0m\n\u001b[0;32m     63\u001b[0m filtered_tb \u001b[39m=\u001b[39m \u001b[39mNone\u001b[39;00m\n\u001b[0;32m     64\u001b[0m \u001b[39mtry\u001b[39;00m:\n\u001b[1;32m---> 65\u001b[0m     \u001b[39mreturn\u001b[39;00m fn(\u001b[39m*\u001b[39margs, \u001b[39m*\u001b[39m\u001b[39m*\u001b[39mkwargs)\n\u001b[0;32m     66\u001b[0m \u001b[39mexcept\u001b[39;00m \u001b[39mException\u001b[39;00m \u001b[39mas\u001b[39;00m e:\n\u001b[0;32m     67\u001b[0m     filtered_tb \u001b[39m=\u001b[39m _process_traceback_frames(e\u001b[39m.\u001b[39m__traceback__)\n",
            "File \u001b[1;32mc:\\Users\\htw10\\anaconda3\\lib\\site-packages\\keras\\engine\\training.py:1564\u001b[0m, in \u001b[0;36mModel.fit\u001b[1;34m(self, x, y, batch_size, epochs, verbose, callbacks, validation_split, validation_data, shuffle, class_weight, sample_weight, initial_epoch, steps_per_epoch, validation_steps, validation_batch_size, validation_freq, max_queue_size, workers, use_multiprocessing)\u001b[0m\n\u001b[0;32m   1556\u001b[0m \u001b[39mwith\u001b[39;00m tf\u001b[39m.\u001b[39mprofiler\u001b[39m.\u001b[39mexperimental\u001b[39m.\u001b[39mTrace(\n\u001b[0;32m   1557\u001b[0m     \u001b[39m\"\u001b[39m\u001b[39mtrain\u001b[39m\u001b[39m\"\u001b[39m,\n\u001b[0;32m   1558\u001b[0m     epoch_num\u001b[39m=\u001b[39mepoch,\n\u001b[1;32m   (...)\u001b[0m\n\u001b[0;32m   1561\u001b[0m     _r\u001b[39m=\u001b[39m\u001b[39m1\u001b[39m,\n\u001b[0;32m   1562\u001b[0m ):\n\u001b[0;32m   1563\u001b[0m     callbacks\u001b[39m.\u001b[39mon_train_batch_begin(step)\n\u001b[1;32m-> 1564\u001b[0m     tmp_logs \u001b[39m=\u001b[39m \u001b[39mself\u001b[39;49m\u001b[39m.\u001b[39;49mtrain_function(iterator)\n\u001b[0;32m   1565\u001b[0m     \u001b[39mif\u001b[39;00m data_handler\u001b[39m.\u001b[39mshould_sync:\n\u001b[0;32m   1566\u001b[0m         context\u001b[39m.\u001b[39masync_wait()\n",
            "File \u001b[1;32mc:\\Users\\htw10\\anaconda3\\lib\\site-packages\\tensorflow\\python\\util\\traceback_utils.py:150\u001b[0m, in \u001b[0;36mfilter_traceback.<locals>.error_handler\u001b[1;34m(*args, **kwargs)\u001b[0m\n\u001b[0;32m    148\u001b[0m filtered_tb \u001b[39m=\u001b[39m \u001b[39mNone\u001b[39;00m\n\u001b[0;32m    149\u001b[0m \u001b[39mtry\u001b[39;00m:\n\u001b[1;32m--> 150\u001b[0m   \u001b[39mreturn\u001b[39;00m fn(\u001b[39m*\u001b[39margs, \u001b[39m*\u001b[39m\u001b[39m*\u001b[39mkwargs)\n\u001b[0;32m    151\u001b[0m \u001b[39mexcept\u001b[39;00m \u001b[39mException\u001b[39;00m \u001b[39mas\u001b[39;00m e:\n\u001b[0;32m    152\u001b[0m   filtered_tb \u001b[39m=\u001b[39m _process_traceback_frames(e\u001b[39m.\u001b[39m__traceback__)\n",
            "File \u001b[1;32mc:\\Users\\htw10\\anaconda3\\lib\\site-packages\\tensorflow\\python\\eager\\def_function.py:915\u001b[0m, in \u001b[0;36mFunction.__call__\u001b[1;34m(self, *args, **kwds)\u001b[0m\n\u001b[0;32m    912\u001b[0m compiler \u001b[39m=\u001b[39m \u001b[39m\"\u001b[39m\u001b[39mxla\u001b[39m\u001b[39m\"\u001b[39m \u001b[39mif\u001b[39;00m \u001b[39mself\u001b[39m\u001b[39m.\u001b[39m_jit_compile \u001b[39melse\u001b[39;00m \u001b[39m\"\u001b[39m\u001b[39mnonXla\u001b[39m\u001b[39m\"\u001b[39m\n\u001b[0;32m    914\u001b[0m \u001b[39mwith\u001b[39;00m OptionalXlaContext(\u001b[39mself\u001b[39m\u001b[39m.\u001b[39m_jit_compile):\n\u001b[1;32m--> 915\u001b[0m   result \u001b[39m=\u001b[39m \u001b[39mself\u001b[39m\u001b[39m.\u001b[39m_call(\u001b[39m*\u001b[39margs, \u001b[39m*\u001b[39m\u001b[39m*\u001b[39mkwds)\n\u001b[0;32m    917\u001b[0m new_tracing_count \u001b[39m=\u001b[39m \u001b[39mself\u001b[39m\u001b[39m.\u001b[39mexperimental_get_tracing_count()\n\u001b[0;32m    918\u001b[0m without_tracing \u001b[39m=\u001b[39m (tracing_count \u001b[39m==\u001b[39m new_tracing_count)\n",
            "File \u001b[1;32mc:\\Users\\htw10\\anaconda3\\lib\\site-packages\\tensorflow\\python\\eager\\def_function.py:947\u001b[0m, in \u001b[0;36mFunction._call\u001b[1;34m(self, *args, **kwds)\u001b[0m\n\u001b[0;32m    944\u001b[0m   \u001b[39mself\u001b[39m\u001b[39m.\u001b[39m_lock\u001b[39m.\u001b[39mrelease()\n\u001b[0;32m    945\u001b[0m   \u001b[39m# In this case we have created variables on the first call, so we run the\u001b[39;00m\n\u001b[0;32m    946\u001b[0m   \u001b[39m# defunned version which is guaranteed to never create variables.\u001b[39;00m\n\u001b[1;32m--> 947\u001b[0m   \u001b[39mreturn\u001b[39;00m \u001b[39mself\u001b[39m\u001b[39m.\u001b[39m_stateless_fn(\u001b[39m*\u001b[39margs, \u001b[39m*\u001b[39m\u001b[39m*\u001b[39mkwds)  \u001b[39m# pylint: disable=not-callable\u001b[39;00m\n\u001b[0;32m    948\u001b[0m \u001b[39melif\u001b[39;00m \u001b[39mself\u001b[39m\u001b[39m.\u001b[39m_stateful_fn \u001b[39mis\u001b[39;00m \u001b[39mnot\u001b[39;00m \u001b[39mNone\u001b[39;00m:\n\u001b[0;32m    949\u001b[0m   \u001b[39m# Release the lock early so that multiple threads can perform the call\u001b[39;00m\n\u001b[0;32m    950\u001b[0m   \u001b[39m# in parallel.\u001b[39;00m\n\u001b[0;32m    951\u001b[0m   \u001b[39mself\u001b[39m\u001b[39m.\u001b[39m_lock\u001b[39m.\u001b[39mrelease()\n",
            "File \u001b[1;32mc:\\Users\\htw10\\anaconda3\\lib\\site-packages\\tensorflow\\python\\eager\\function.py:2496\u001b[0m, in \u001b[0;36mFunction.__call__\u001b[1;34m(self, *args, **kwargs)\u001b[0m\n\u001b[0;32m   2493\u001b[0m \u001b[39mwith\u001b[39;00m \u001b[39mself\u001b[39m\u001b[39m.\u001b[39m_lock:\n\u001b[0;32m   2494\u001b[0m   (graph_function,\n\u001b[0;32m   2495\u001b[0m    filtered_flat_args) \u001b[39m=\u001b[39m \u001b[39mself\u001b[39m\u001b[39m.\u001b[39m_maybe_define_function(args, kwargs)\n\u001b[1;32m-> 2496\u001b[0m \u001b[39mreturn\u001b[39;00m graph_function\u001b[39m.\u001b[39;49m_call_flat(\n\u001b[0;32m   2497\u001b[0m     filtered_flat_args, captured_inputs\u001b[39m=\u001b[39;49mgraph_function\u001b[39m.\u001b[39;49mcaptured_inputs)\n",
            "File \u001b[1;32mc:\\Users\\htw10\\anaconda3\\lib\\site-packages\\tensorflow\\python\\eager\\function.py:1862\u001b[0m, in \u001b[0;36mConcreteFunction._call_flat\u001b[1;34m(self, args, captured_inputs, cancellation_manager)\u001b[0m\n\u001b[0;32m   1858\u001b[0m possible_gradient_type \u001b[39m=\u001b[39m gradients_util\u001b[39m.\u001b[39mPossibleTapeGradientTypes(args)\n\u001b[0;32m   1859\u001b[0m \u001b[39mif\u001b[39;00m (possible_gradient_type \u001b[39m==\u001b[39m gradients_util\u001b[39m.\u001b[39mPOSSIBLE_GRADIENT_TYPES_NONE\n\u001b[0;32m   1860\u001b[0m     \u001b[39mand\u001b[39;00m executing_eagerly):\n\u001b[0;32m   1861\u001b[0m   \u001b[39m# No tape is watching; skip to running the function.\u001b[39;00m\n\u001b[1;32m-> 1862\u001b[0m   \u001b[39mreturn\u001b[39;00m \u001b[39mself\u001b[39m\u001b[39m.\u001b[39m_build_call_outputs(\u001b[39mself\u001b[39;49m\u001b[39m.\u001b[39;49m_inference_function\u001b[39m.\u001b[39;49mcall(\n\u001b[0;32m   1863\u001b[0m       ctx, args, cancellation_manager\u001b[39m=\u001b[39;49mcancellation_manager))\n\u001b[0;32m   1864\u001b[0m forward_backward \u001b[39m=\u001b[39m \u001b[39mself\u001b[39m\u001b[39m.\u001b[39m_select_forward_and_backward_functions(\n\u001b[0;32m   1865\u001b[0m     args,\n\u001b[0;32m   1866\u001b[0m     possible_gradient_type,\n\u001b[0;32m   1867\u001b[0m     executing_eagerly)\n\u001b[0;32m   1868\u001b[0m forward_function, args_with_tangents \u001b[39m=\u001b[39m forward_backward\u001b[39m.\u001b[39mforward()\n",
            "File \u001b[1;32mc:\\Users\\htw10\\anaconda3\\lib\\site-packages\\tensorflow\\python\\eager\\function.py:499\u001b[0m, in \u001b[0;36m_EagerDefinedFunction.call\u001b[1;34m(self, ctx, args, cancellation_manager)\u001b[0m\n\u001b[0;32m    497\u001b[0m \u001b[39mwith\u001b[39;00m _InterpolateFunctionError(\u001b[39mself\u001b[39m):\n\u001b[0;32m    498\u001b[0m   \u001b[39mif\u001b[39;00m cancellation_manager \u001b[39mis\u001b[39;00m \u001b[39mNone\u001b[39;00m:\n\u001b[1;32m--> 499\u001b[0m     outputs \u001b[39m=\u001b[39m execute\u001b[39m.\u001b[39;49mexecute(\n\u001b[0;32m    500\u001b[0m         \u001b[39mstr\u001b[39;49m(\u001b[39mself\u001b[39;49m\u001b[39m.\u001b[39;49msignature\u001b[39m.\u001b[39;49mname),\n\u001b[0;32m    501\u001b[0m         num_outputs\u001b[39m=\u001b[39;49m\u001b[39mself\u001b[39;49m\u001b[39m.\u001b[39;49m_num_outputs,\n\u001b[0;32m    502\u001b[0m         inputs\u001b[39m=\u001b[39;49margs,\n\u001b[0;32m    503\u001b[0m         attrs\u001b[39m=\u001b[39;49mattrs,\n\u001b[0;32m    504\u001b[0m         ctx\u001b[39m=\u001b[39;49mctx)\n\u001b[0;32m    505\u001b[0m   \u001b[39melse\u001b[39;00m:\n\u001b[0;32m    506\u001b[0m     outputs \u001b[39m=\u001b[39m execute\u001b[39m.\u001b[39mexecute_with_cancellation(\n\u001b[0;32m    507\u001b[0m         \u001b[39mstr\u001b[39m(\u001b[39mself\u001b[39m\u001b[39m.\u001b[39msignature\u001b[39m.\u001b[39mname),\n\u001b[0;32m    508\u001b[0m         num_outputs\u001b[39m=\u001b[39m\u001b[39mself\u001b[39m\u001b[39m.\u001b[39m_num_outputs,\n\u001b[1;32m   (...)\u001b[0m\n\u001b[0;32m    511\u001b[0m         ctx\u001b[39m=\u001b[39mctx,\n\u001b[0;32m    512\u001b[0m         cancellation_manager\u001b[39m=\u001b[39mcancellation_manager)\n",
            "File \u001b[1;32mc:\\Users\\htw10\\anaconda3\\lib\\site-packages\\tensorflow\\python\\eager\\execute.py:54\u001b[0m, in \u001b[0;36mquick_execute\u001b[1;34m(op_name, num_outputs, inputs, attrs, ctx, name)\u001b[0m\n\u001b[0;32m     52\u001b[0m \u001b[39mtry\u001b[39;00m:\n\u001b[0;32m     53\u001b[0m   ctx\u001b[39m.\u001b[39mensure_initialized()\n\u001b[1;32m---> 54\u001b[0m   tensors \u001b[39m=\u001b[39m pywrap_tfe\u001b[39m.\u001b[39;49mTFE_Py_Execute(ctx\u001b[39m.\u001b[39;49m_handle, device_name, op_name,\n\u001b[0;32m     55\u001b[0m                                       inputs, attrs, num_outputs)\n\u001b[0;32m     56\u001b[0m \u001b[39mexcept\u001b[39;00m core\u001b[39m.\u001b[39m_NotOkStatusException \u001b[39mas\u001b[39;00m e:\n\u001b[0;32m     57\u001b[0m   \u001b[39mif\u001b[39;00m name \u001b[39mis\u001b[39;00m \u001b[39mnot\u001b[39;00m \u001b[39mNone\u001b[39;00m:\n",
            "\u001b[1;31mKeyboardInterrupt\u001b[0m: "
          ]
        }
      ],
      "source": [
        "# Define the EarlyStopping callback\n",
        "es = EarlyStopping(monitor='val_loss', mode='min', verbose=1, patience=5)\n",
        "\n",
        "# Fit the model\n",
        "history = model.fit(predictors, label, \n",
        "                    epochs=5, \n",
        "                    verbose=1, \n",
        "                    callbacks=[es], \n",
        "                    validation_split=0.2)\n"
      ]
    },
    {
      "cell_type": "code",
      "execution_count": 58,
      "metadata": {
        "colab": {
          "base_uri": "https://localhost:8080/",
          "height": 1000
        },
        "id": "i2ATgEmfsuhr",
        "outputId": "dce6d20e-2949-4eec-b8e9-cd8d4e03a7ae"
      },
      "outputs": [
        {
          "data": {
            "image/png": "[encoded data removed]",
            "text/plain": [
              "<Figure size 1200x600 with 1 Axes>"
            ]
          },
          "metadata": {},
          "output_type": "display_data"
        },
        {
          "data": {
            "image/png": "[encoded data removed]",
            "text/plain": [
              "<Figure size 1200x600 with 1 Axes>"
            ]
          },
          "metadata": {},
          "output_type": "display_data"
        }
      ],
      "source": [
        "import matplotlib.pyplot as plt\n",
        "\n",
        "# Plot accuracy\n",
        "plt.figure(figsize=(12, 6))\n",
        "plt.plot(history.history['accuracy'])\n",
        "plt.plot(history.history['val_accuracy'])\n",
        "plt.title('Model Accuracy')\n",
        "plt.ylabel('Accuracy')\n",
        "plt.xlabel('Epoch')\n",
        "plt.legend(['Train', 'Val'], loc='upper left')\n",
        "plt.show()\n",
        "\n",
        "# Plot loss\n",
        "plt.figure(figsize=(12, 6))\n",
        "plt.plot(history.history['loss'])\n",
        "plt.plot(history.history['val_loss'])\n",
        "plt.title('Model Loss')\n",
        "plt.ylabel('Loss')\n",
        "plt.xlabel('Epoch')\n",
        "plt.legend(['Train', 'Val'], loc='upper left')\n",
        "plt.show()\n"
      ]
    },
    {
      "cell_type": "code",
      "execution_count": 61,
      "metadata": {
        "id": "0Nqm2pgSsuek"
      },
      "outputs": [],
      "source": [
        "def generate_text(seed_text, next_words, model, max_sequence_len):\n",
        "    for _ in range(next_words):\n",
        "        token_list = tokenizer.texts_to_sequences([seed_text])[0]\n",
        "        token_list = pad_sequences([token_list], maxlen=max_sequence_len-1, padding='pre')\n",
        "        predicted_probs = model.predict(token_list, verbose=0)\n",
        "        \n",
        "        # get the index of the highest predicted probability\n",
        "        predicted = np.argmax(predicted_probs, axis=-1)\n",
        "        \n",
        "        output_word = \"\"\n",
        "        for word, index in tokenizer.word_index.items():\n",
        "            if index == predicted:\n",
        "                output_word = word\n",
        "                break\n",
        "        seed_text += \" \" + output_word\n",
        "    return seed_text\n"
      ]
    },
    {
      "cell_type": "code",
      "execution_count": 62,
      "metadata": {
        "colab": {
          "base_uri": "https://localhost:8080/"
        },
        "id": "oDA5UyOisuPh",
        "outputId": "b06c312a-3fc5-4dd8-bc05-e531a44127b8"
      },
      "outputs": [
        {
          "name": "stdout",
          "output_type": "stream",
          "text": [
            "I love dont love wanna love love keep tonight tell you— love keep tonight tell you— love keep tonight tell you— like go let feel tonight alone tonight alone tonight alone tonight alone tonight alone ride alone let adore like thing ill ever let adore like thing ill ever let adore like thing ill ever let adore like thing ill ever lately keep summer eveninbaby let you— like bridges run away let go run away let run away let run away oh oh oh oh oh oh oh oh oh oh oh oh oh oh oh oh oh oh oh oh oh\n"
          ]
        }
      ],
      "source": [
        "print(generate_text(\"I love\", 100, model, max_sequence_len))\n"
      ]
    },
    {
      "cell_type": "code",
      "execution_count": null,
      "metadata": {
        "id": "wEuW9lDBsuMS"
      },
      "outputs": [],
      "source": []
    }
  ],
  "metadata": {
    "accelerator": "GPU",
    "colab": {
      "gpuType": "T4",
      "provenance": []
    },
    "gpuClass": "standard",
    "kernelspec": {
      "display_name": "base",
      "language": "python",
      "name": "python3"
    },
    "language_info": {
      "codemirror_mode": {
        "name": "ipython",
        "version": 3
      },
      "file_extension": ".py",
      "mimetype": "text/x-python",
      "name": "python",
      "nbconvert_exporter": "python",
      "pygments_lexer": "ipython3",
      "version": "3.10.9"
    }
  },
  "nbformat": 4,
  "nbformat_minor": 0
}
